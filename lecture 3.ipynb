{
 "cells": [
  {
   "cell_type": "markdown",
   "id": "275f3a59",
   "metadata": {},
   "source": [
    "# Lecture 3: Control Structures in Python\n",
    "\n",
    "A program's **control flow** is the order in which the program's code executes.\n",
    "\n",
    "Python has three types of control strucutes:\n",
    "\n",
    "\n",
    "* [1 Sequential](#1)\n",
    "* [2 Selection](#2)\n",
    "* [3 Repetition](#3)\n",
    "\n",
    "While you can use the Python control structures individually, it is possible to combine more than one of Python's control structures to create more complex programs with various conditions. \n",
    "\n",
    "* [4 Nested control structures](#4)\n",
    "\n",
    "In addition, Python provides us with 3 types of Control Statements:\n",
    "* [5 Continue, Break and Pass](#5)\n",
    "\n",
    "With the above statements in mind, we are ready to learn how to creat a list or dictionary in an elegant way.\n",
    "\n",
    "* [6 List comprehension and dict comprehension](#6)"
   ]
  },
  {
   "cell_type": "markdown",
   "id": "44b1a80e",
   "metadata": {},
   "source": [
    "## 1 Sequencial <a class=\"anchor\" id=\"1\"></a>\n",
    "\n",
    "**Sequencial: default mode**\n",
    "\n",
    "Sequential statements are a set of statements whose execution process happens in a sequence. The problem with sequential statements is that if the logic has broken in any one of the lines, then the complete source code execution will break.\n",
    "\n",
    "[![](https://mermaid.ink/img/pako:eNplkLEKAjEMhl8lZFHhblC3DoKezgo63hJsziv02tJLBxHf3drT6TKEQL7vJ-SFd68ZFT4ihR5ux9ZBrv3yKhxgreAc2IH0DJG7aB4cSXxcQV3v4DBBGwWXJIVhy6EnJ2Cc-Lk1ZR-K3EzyVkFj_cgzeDGC9j-neN-GFQ4cBzI6X_wqK8ziwC2qPGruKFlpsXXvjKagSfikTY5D1ZEduUJK4q9Pd0clMfEfOhrKDxh-1PsDbvFbJg)](https://mermaid-js.github.io/mermaid-live-editor/edit#pako:eNplkLEKAjEMhl8lZFHhblC3DoKezgo63hJsziv02tJLBxHf3drT6TKEQL7vJ-SFd68ZFT4ihR5ux9ZBrv3yKhxgreAc2IH0DJG7aB4cSXxcQV3v4DBBGwWXJIVhy6EnJ2Cc-Lk1ZR-K3EzyVkFj_cgzeDGC9j-neN-GFQ4cBzI6X_wqK8ziwC2qPGruKFlpsXXvjKagSfikTY5D1ZEduUJK4q9Pd0clMfEfOhrKDxh-1PsDbvFbJg)"
   ]
  },
  {
   "cell_type": "code",
   "execution_count": null,
   "id": "34dbe07f",
   "metadata": {},
   "outputs": [],
   "source": [
    "a,b = 1,2\n",
    "a += b\n",
    "b += a\n",
    "print('a = %d and b = %d'%(a,b))"
   ]
  },
  {
   "cell_type": "code",
   "execution_count": null,
   "id": "7a6572b8",
   "metadata": {},
   "outputs": [],
   "source": [
    "a,b = 1,2\n",
    "b += a\n",
    "a += b\n",
    "print('a = %d and b = %d'%(a,b))"
   ]
  },
  {
   "cell_type": "markdown",
   "id": "04da84e2",
   "metadata": {},
   "source": [
    "## 2 Selection <a class=\"anchor\" id=\"2\"></a>\n",
    "\n",
    "#### Selection: used for decisions and branching\n",
    "\n",
    "In Python, the selection statements are also known as Decision control statements or branching statements.\n",
    "\n",
    "The selection statement allows a program to test several conditions and execute instructions based on which condition is true.\n",
    "\n",
    "Some Decision Control Statements are:\n",
    "- simple if\n",
    "- if-else\n",
    "- if-elif-else\n",
    "\n",
    "[![](https://mermaid.ink/img/pako:eNplkLFuhDAMhl_F8lIq3b1AhlY9YKvaSu1SKUtEDEQXEhSc4QS8e0O4digeIjv-fv-WZ2y8JhTYBTX28FVJByleiveRHHBPEKgNpqOg2IdHOJ-f4DKXPTVXAWY6ENBGa-F53cdcNn558ww34gXK4iNylpClsVeOwTj2R5tdXWa3qiitn-gAPUyg_R-bnWD5pgkMp9a2xgJ18Ur_DDt_V9T7dOm2Mn9tD55woDAoo9NN5tzCpB9IokipplZFyxKlWxMaR62Yam3SPihaZSc6oYrsP2-uQcEh0i9UGZVOPNyp9QeJF3ps)](https://mermaid-js.github.io/mermaid-live-editor/edit#pako:eNplkLFuhDAMhl_F8lIq3b1AhlY9YKvaSu1SKUtEDEQXEhSc4QS8e0O4digeIjv-fv-WZ2y8JhTYBTX28FVJByleiveRHHBPEKgNpqOg2IdHOJ-f4DKXPTVXAWY6ENBGa-F53cdcNn558ww34gXK4iNylpClsVeOwTj2R5tdXWa3qiitn-gAPUyg_R-bnWD5pgkMp9a2xgJ18Ur_DDt_V9T7dOm2Mn9tD55woDAoo9NN5tzCpB9IokipplZFyxKlWxMaR62Yam3SPihaZSc6oYrsP2-uQcEh0i9UGZVOPNyp9QeJF3ps)\n"
   ]
  },
  {
   "cell_type": "code",
   "execution_count": null,
   "id": "b05f9256",
   "metadata": {},
   "outputs": [],
   "source": [
    "age = input('How old are you?')\n",
    "if int(age) < 18:\n",
    "    print(\"Sorry. You are not eligible for a driver's license.\")\n",
    "if int(age) >= 18:\n",
    "    print(\"Congratulations. You can apply for a driver's license now!\")\n",
    "\n"
   ]
  },
  {
   "cell_type": "code",
   "execution_count": null,
   "id": "669af798",
   "metadata": {},
   "outputs": [],
   "source": [
    "age = input('How old are you?')\n",
    "if int(age) < 18:\n",
    "    print(\"Sorry. You are not eligible for a driver's license.\")\n",
    "else:\n",
    "    print(\"Congratulations. You can apply for a driver's license now!\")\n",
    "\n",
    "\n"
   ]
  },
  {
   "cell_type": "code",
   "execution_count": null,
   "id": "da7d62b4",
   "metadata": {},
   "outputs": [],
   "source": [
    "grade = 75\n",
    "if grade >= 85:\n",
    "    print(\"Excellent\") \n",
    "elif grade >=75:\n",
    "    print(\"Good\") \n",
    "elif grade >=60:\n",
    "    print(\"Pass\") \n",
    "else:\n",
    "    print(\"Fail\")\n",
    "\n"
   ]
  },
  {
   "cell_type": "markdown",
   "id": "8879c03c",
   "metadata": {},
   "source": [
    "The syntax of Python ternary operator is as follows:\n",
    "\n",
    "`<expression1> if <condition> else <expression2>`"
   ]
  },
  {
   "cell_type": "code",
   "execution_count": null,
   "id": "cdd66478",
   "metadata": {},
   "outputs": [],
   "source": [
    "age = 25\n",
    "# using ternary operator\n",
    "print(\"Can drive\" if age >= 18 else \"Can not drive\")"
   ]
  },
  {
   "cell_type": "code",
   "execution_count": null,
   "id": "c040b662",
   "metadata": {},
   "outputs": [],
   "source": [
    "age_Tom,age_Jerry = 9,10\n",
    "print(\"Tom is older than Jerry\" if age_Tom > age_Jerry else \"Tom is younger than Jerry\")"
   ]
  },
  {
   "cell_type": "code",
   "execution_count": null,
   "id": "49e3ae5f",
   "metadata": {},
   "outputs": [],
   "source": [
    "elder_bro = \"Tom\" if age_Tom > age_Jerry else \"Jerry\""
   ]
  },
  {
   "cell_type": "markdown",
   "id": "182b1a56",
   "metadata": {},
   "source": [
    " **\\* Python Ternary Operator Without Else**\n",
    "\n",
    "* Such code has the format of `True/False and string`\n",
    "* If the first statement is false then the `and` operator will return False and the second statement will not be executed.\n",
    "* If the first statement is true then the `and` operator will return second statement.\n"
   ]
  },
  {
   "cell_type": "code",
   "execution_count": null,
   "id": "6bb61023",
   "metadata": {},
   "outputs": [],
   "source": [
    "a, b = 10, 20\n",
    "result = (a < b) and \"a is less than b\"\n",
    "print(result)\n"
   ]
  },
  {
   "cell_type": "code",
   "execution_count": null,
   "id": "16def7fe",
   "metadata": {},
   "outputs": [],
   "source": [
    "a, b = 10, 20\n",
    "if a < b:\n",
    "    result = \"a is less than b\"\n",
    "else:\n",
    "    result = False\n",
    "print(result)"
   ]
  },
  {
   "cell_type": "markdown",
   "id": "4fdc0272",
   "metadata": {},
   "source": [
    "#### Exercise 1: check if an interger is even or odd"
   ]
  },
  {
   "cell_type": "code",
   "execution_count": null,
   "id": "d38408a6",
   "metadata": {},
   "outputs": [],
   "source": [
    "n = 30\n",
    "if n%2 == 0:\n",
    "    print('%d is an even number'%(n))\n",
    "else:\n",
    "    print('%d is an odd number'%(n))"
   ]
  },
  {
   "cell_type": "code",
   "execution_count": null,
   "id": "39ef5700",
   "metadata": {},
   "outputs": [],
   "source": [
    "n = 29\n",
    "print('%d is an even number'%(n)) if n%2 == 0 else print('%d is an odd number'%(n))"
   ]
  },
  {
   "cell_type": "markdown",
   "id": "7a0529fa",
   "metadata": {},
   "source": []
  },
  {
   "cell_type": "markdown",
   "id": "35cb2d6e",
   "metadata": {},
   "source": [
    "## 3 Repetition <a class=\"anchor\" id=\"3\"></a>\n",
    "\n",
    "A repetition statement is used to repeat a group(block) of programming instructions.\n",
    "\n",
    "[![](https://mermaid.ink/img/pako:eNpFj8EKgzAMhl8l5KQwX8DDhpuDnXaZl4GXYKMVtZXaboj13afitksS_nz8fzJhoQVjjJWhXkKW5goAtpJAFB39kwcP5004Bzd6MRAMpMS7LmS4EuAvkovGQzIlhmHUDqRTlRnhNP99wN-1h0uQUbM6vKltwj1qbb9UPGDHpqNaLDdN2wqt5I5zjJdRcEmutTnmal5Q1wuyfBW11QbjktqBD0jO6seoCoytcfyF0pqWF7udmj_ISU7F)](https://mermaid-js.github.io/mermaid-live-editor/edit#pako:eNpFj8EKgzAMhl8l5KQwX8DDhpuDnXaZl4GXYKMVtZXaboj13afitksS_nz8fzJhoQVjjJWhXkKW5goAtpJAFB39kwcP5004Bzd6MRAMpMS7LmS4EuAvkovGQzIlhmHUDqRTlRnhNP99wN-1h0uQUbM6vKltwj1qbb9UPGDHpqNaLDdN2wqt5I5zjJdRcEmutTnmal5Q1wuyfBW11QbjktqBD0jO6seoCoytcfyF0pqWF7udmj_ISU7F)\n",
    "\n",
    "In Python, we generally have two loops/repetitive statements:\n",
    "* `for` loop\n",
    "* `while` loop\n"
   ]
  },
  {
   "cell_type": "markdown",
   "id": "1777db84",
   "metadata": {},
   "source": [
    "A for loop is used to iterate over a sequence that is either a list, tuple, dictionary, or a set. We can execute a set of statements once for each item in a list, tuple, or dictionary."
   ]
  },
  {
   "cell_type": "code",
   "execution_count": null,
   "id": "fe8fb5a6",
   "metadata": {},
   "outputs": [],
   "source": [
    "grocery = ['milk','banana','cake','salt']\n",
    "for item in grocery:\n",
    "    print(item)"
   ]
  },
  {
   "cell_type": "code",
   "execution_count": null,
   "id": "d65e121f",
   "metadata": {},
   "outputs": [],
   "source": [
    "grocery = ('milk','banana','cake','salt')\n",
    "for item in grocery:\n",
    "    print(item)"
   ]
  },
  {
   "cell_type": "code",
   "execution_count": null,
   "id": "902eda95",
   "metadata": {},
   "outputs": [],
   "source": [
    "grocery = {'milk','banana','cake','salt'}\n",
    "for item in grocery:\n",
    "    print(item)"
   ]
  },
  {
   "cell_type": "code",
   "execution_count": null,
   "id": "f6137f1a",
   "metadata": {},
   "outputs": [],
   "source": [
    "grocery = {'milk':2,'banana':3,'cake':1,'salt':1}\n",
    "for item in grocery:\n",
    "    print(item+':'+'%d'%(grocery[item]))"
   ]
  },
  {
   "cell_type": "code",
   "execution_count": null,
   "id": "088c1fd2",
   "metadata": {},
   "outputs": [],
   "source": [
    "line = \"Have a nice day\"\n",
    "count = 0\n",
    "for char in line:\n",
    "    if char == 'a':\n",
    "        count += 1\n",
    "print(count)\n",
    "print(line.count('a'))"
   ]
  },
  {
   "cell_type": "markdown",
   "id": "c996225e",
   "metadata": {},
   "source": [
    "#### Exercise 2: transfer a list to a set"
   ]
  },
  {
   "cell_type": "code",
   "execution_count": null,
   "id": "1ca4c113",
   "metadata": {},
   "outputs": [],
   "source": [
    "nums = [1,2,44,2,5,6,8,5,4,7,2,5,7,11,32,56,9,4]\n",
    "nums_set = set()\n",
    "for num in nums:\n",
    "    if num not in nums_set:\n",
    "        nums_set.add(num)\n",
    "print(nums_set)"
   ]
  },
  {
   "cell_type": "code",
   "execution_count": null,
   "id": "51210ddc",
   "metadata": {},
   "outputs": [],
   "source": [
    "nums = [1,2,44,2,5,6,8,5,4,7,2,5,7,11,32,56,9,4]\n",
    "print(set(nums))"
   ]
  },
  {
   "cell_type": "markdown",
   "id": "7e348522",
   "metadata": {},
   "source": [
    "### Build-in function: `range(start, stop[, step])`"
   ]
  },
  {
   "cell_type": "code",
   "execution_count": null,
   "id": "3beb2377",
   "metadata": {},
   "outputs": [],
   "source": [
    "a = range(5)\n",
    "print(a,type(a))\n",
    "print(list(a),tuple(a),set(a))"
   ]
  },
  {
   "cell_type": "code",
   "execution_count": null,
   "id": "1b553e79",
   "metadata": {},
   "outputs": [],
   "source": [
    "a = range(1,5)\n",
    "print(list(a))\n",
    "a = range(0,5,2)\n",
    "print(list(a))"
   ]
  },
  {
   "cell_type": "code",
   "execution_count": null,
   "id": "7075b668",
   "metadata": {},
   "outputs": [],
   "source": [
    "for i in range(0,10,3):\n",
    "    print(i)"
   ]
  },
  {
   "cell_type": "markdown",
   "id": "14ba2ed2",
   "metadata": {},
   "source": [
    "#### Exercise 3: calculate the sum of 1,2, ..., 100."
   ]
  },
  {
   "cell_type": "code",
   "execution_count": null,
   "id": "01af3e08",
   "metadata": {},
   "outputs": [],
   "source": [
    "Sum = 0\n",
    "for i in range(1,101):\n",
    "    Sum += i\n",
    "print(Sum)"
   ]
  },
  {
   "cell_type": "markdown",
   "id": "e3e1068c",
   "metadata": {},
   "source": [
    "In Python, while loops are used to execute a block of statements repeatedly until a given condition is satisfied. Then, the expression is checked again and, if it is still true, the body is executed again. This continues until the expression becomes false."
   ]
  },
  {
   "cell_type": "code",
   "execution_count": null,
   "id": "92d58187",
   "metadata": {},
   "outputs": [],
   "source": [
    "Sum,i = 0,1\n",
    "\n",
    "while i <= 100:\n",
    "    Sum += i\n",
    "    i += 1\n",
    "print(Sum)"
   ]
  },
  {
   "cell_type": "code",
   "execution_count": null,
   "id": "7304861b",
   "metadata": {},
   "outputs": [],
   "source": [
    "count = 0\n",
    "while count < 5:\n",
    "    print(count , \" is less than 5\")\n",
    "    count = count + 1 \n",
    "else:\n",
    "    print(count, \" isn’t less than 5\")"
   ]
  },
  {
   "cell_type": "code",
   "execution_count": null,
   "id": "d32eead9",
   "metadata": {},
   "outputs": [],
   "source": [
    "count = 0\n",
    "while count < 5:\n",
    "    print(count , \" is less than 5\")\n",
    "    count = count + 1 \n",
    "print(count, \" isn’t less than 5\")"
   ]
  },
  {
   "cell_type": "code",
   "execution_count": null,
   "id": "cf2bdb1f",
   "metadata": {},
   "outputs": [],
   "source": [
    "#while True:\n",
    "#    print('infinite loop')"
   ]
  },
  {
   "cell_type": "markdown",
   "id": "5973b068",
   "metadata": {},
   "source": [
    "## 4 Nested control structures <a class=\"anchor\" id=\"4\"></a>"
   ]
  },
  {
   "cell_type": "markdown",
   "id": "fe0e45b1",
   "metadata": {},
   "source": [
    "#### Exercise 4: print the multiplication table."
   ]
  },
  {
   "cell_type": "code",
   "execution_count": null,
   "id": "6ea9e4d1",
   "metadata": {},
   "outputs": [],
   "source": [
    "for i in range(1,10):\n",
    "    line_i = ''\n",
    "    for j in range(1,i+1):\n",
    "        line_i += '%d*%d=%d '%(j,i,j*i)\n",
    "    print(line_i)"
   ]
  },
  {
   "cell_type": "markdown",
   "id": "08ebe0f6",
   "metadata": {},
   "source": []
  },
  {
   "cell_type": "code",
   "execution_count": null,
   "id": "cd7ca9a0",
   "metadata": {},
   "outputs": [],
   "source": [
    "\n"
   ]
  },
  {
   "cell_type": "markdown",
   "id": "71af0a16",
   "metadata": {},
   "source": [
    "## 5 Continue, Break and Pass <a class=\"anchor\" id=\"5\"></a>"
   ]
  },
  {
   "cell_type": "markdown",
   "id": "ee76c9b0",
   "metadata": {},
   "source": [
    "**Continue Statement:**\n",
    "\n",
    "When the program encounters a continue statement, it will skip the statements which are present after the continue statement inside the loop and proceed with the next iterations.\n",
    "\n"
   ]
  },
  {
   "cell_type": "code",
   "execution_count": null,
   "id": "0c41311f",
   "metadata": {},
   "outputs": [],
   "source": [
    "for char in 'Python':\n",
    "    if char == 't':\n",
    "        continue\n",
    "    print('current character: ', char)"
   ]
  },
  {
   "cell_type": "markdown",
   "id": "4ff6f7b4",
   "metadata": {},
   "source": [
    "**Break Statement:**\n",
    "\n",
    "The break statement is used to terminate the loop containing it, the control of the program will come out of that loop."
   ]
  },
  {
   "cell_type": "code",
   "execution_count": null,
   "id": "907621cc",
   "metadata": {},
   "outputs": [],
   "source": [
    "for char in 'Python':\n",
    "    if char == 't':\n",
    "        break\n",
    "    print('current character: ', char)"
   ]
  },
  {
   "cell_type": "code",
   "execution_count": null,
   "id": "2508e12f",
   "metadata": {},
   "outputs": [],
   "source": [
    "while True:\n",
    "    print('continue')\n",
    "    break   "
   ]
  },
  {
   "cell_type": "markdown",
   "id": "7777332a",
   "metadata": {},
   "source": [
    "**Pass Statement:**\n",
    "\n",
    "Pass statement is python is a null operation, which is used when the statement is required syntactically."
   ]
  },
  {
   "cell_type": "code",
   "execution_count": null,
   "id": "13c1f4d5",
   "metadata": {},
   "outputs": [],
   "source": [
    "for char in 'Python':\n",
    "    if char == 't':\n",
    "        pass\n",
    "    print('current character: ', char)"
   ]
  },
  {
   "cell_type": "code",
   "execution_count": null,
   "id": "a3ac2cf9",
   "metadata": {},
   "outputs": [],
   "source": [
    "for char in 'Python':\n",
    "    if char == 't':\n",
    "        pass\n",
    "    else:\n",
    "        print('current character: ', char)"
   ]
  },
  {
   "cell_type": "markdown",
   "id": "62ed9f0b",
   "metadata": {},
   "source": [
    "#### Exercise 5: check if an interger is prime number or not"
   ]
  },
  {
   "cell_type": "code",
   "execution_count": null,
   "id": "1d4b3dfa",
   "metadata": {},
   "outputs": [],
   "source": [
    "n = 43\n",
    "for i in range(2,n):\n",
    "    if n%i == 0:\n",
    "        print(n, 'is NOT a prime number.')\n",
    "        break\n",
    "print(n, 'is a prime number.')\n"
   ]
  },
  {
   "cell_type": "markdown",
   "id": "b32a68d9",
   "metadata": {},
   "source": [
    "## 6 List comprehension and dict comprehension <a class=\"anchor\" id=\"6\"></a>"
   ]
  },
  {
   "cell_type": "code",
   "execution_count": null,
   "id": "fb38df73",
   "metadata": {},
   "outputs": [],
   "source": [
    "lst = []\n",
    "for i in range(0,10,2):\n",
    "    lst.append(i**2)\n",
    "print(lst)\n"
   ]
  },
  {
   "cell_type": "code",
   "execution_count": null,
   "id": "d93052f7",
   "metadata": {},
   "outputs": [],
   "source": [
    "lst = [i**2 for i in range(0,10,2)]\n",
    "print(lst)"
   ]
  },
  {
   "cell_type": "code",
   "execution_count": null,
   "id": "03285cd4",
   "metadata": {},
   "outputs": [],
   "source": [
    "lst = [i**2 for i in range(0,10,2) if i != 4]\n",
    "print(lst)"
   ]
  },
  {
   "cell_type": "code",
   "execution_count": null,
   "id": "bdb48c2c",
   "metadata": {},
   "outputs": [],
   "source": [
    "key=[\"a\",\"b\",\"c\",\"d\"]\n",
    "value =[1 ,2 ,3 ,4] \n",
    "mydict=dict(zip(key,value))\n",
    "print(mydict)"
   ]
  },
  {
   "cell_type": "code",
   "execution_count": null,
   "id": "2720ce41",
   "metadata": {},
   "outputs": [],
   "source": [
    "key=[\"a\",\"b\",\"c\",\"d\"]\n",
    "value =[1 ,2 ,3 ,4] \n",
    "mydict = {}\n",
    "for i,j in zip(key,value):\n",
    "    mydict[i] = j\n",
    "print(mydict)"
   ]
  },
  {
   "cell_type": "code",
   "execution_count": null,
   "id": "a7780195",
   "metadata": {},
   "outputs": [],
   "source": [
    "key=[\"a\",\"b\",\"c\",\"d\"]\n",
    "value =[1 ,2 ,3 ,4] \n",
    "mydict = {i:j for i,j in zip(key,value)}\n",
    "print(mydict)"
   ]
  },
  {
   "cell_type": "markdown",
   "id": "176d5b79",
   "metadata": {},
   "source": [
    "### Build-in function: `enumerate(x[,start = 0])`"
   ]
  },
  {
   "cell_type": "code",
   "execution_count": null,
   "id": "3e027a93",
   "metadata": {},
   "outputs": [],
   "source": [
    "name = ['alice','ben','cindy','eric','david']\n",
    "a = enumerate(name)\n",
    "print(a, type(a))"
   ]
  },
  {
   "cell_type": "code",
   "execution_count": null,
   "id": "3d0f0dc4",
   "metadata": {},
   "outputs": [],
   "source": [
    "print(list(a))"
   ]
  },
  {
   "cell_type": "code",
   "execution_count": null,
   "id": "dfab769f",
   "metadata": {},
   "outputs": [],
   "source": [
    "name = ['alice','ben','cindy','eric','david']\n",
    "name_dict = {}\n",
    "for i,j in enumerate(name,1):\n",
    "    print(i,j)\n",
    "    name_dict[i] = j\n",
    "print(name_dict)"
   ]
  },
  {
   "cell_type": "code",
   "execution_count": null,
   "id": "20ad80c8",
   "metadata": {},
   "outputs": [],
   "source": [
    "for i,j in enumerate(name_dict):\n",
    "    print(i,j)\n"
   ]
  },
  {
   "cell_type": "code",
   "execution_count": null,
   "id": "e32c4757",
   "metadata": {},
   "outputs": [],
   "source": [
    "for i,j in enumerate(name_dict):\n",
    "    print(i,name_dict[j])"
   ]
  }
 ],
 "metadata": {
  "kernelspec": {
   "display_name": "Python 3 (ipykernel)",
   "language": "python",
   "name": "python3"
  },
  "language_info": {
   "codemirror_mode": {
    "name": "ipython",
    "version": 3
   },
   "file_extension": ".py",
   "mimetype": "text/x-python",
   "name": "python",
   "nbconvert_exporter": "python",
   "pygments_lexer": "ipython3",
   "version": "3.9.7"
  }
 },
 "nbformat": 4,
 "nbformat_minor": 5
}
